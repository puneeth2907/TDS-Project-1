{
  "nbformat": 4,
  "nbformat_minor": 0,
  "metadata": {
    "colab": {
      "provenance": []
    },
    "kernelspec": {
      "name": "python3",
      "display_name": "Python 3"
    },
    "language_info": {
      "name": "python"
    }
  },
  "cells": [
    {
      "cell_type": "code",
      "execution_count": null,
      "metadata": {
        "colab": {
          "base_uri": "https://localhost:8080/"
        },
        "id": "EtqMCDkVzqV2",
        "outputId": "328ccb9c-f842-4546-a6dd-cebce4f6e0e8"
      },
      "outputs": [
        {
          "output_type": "stream",
          "name": "stdout",
          "text": [
            "Collecting PyGithub\n",
            "  Downloading PyGithub-2.4.0-py3-none-any.whl.metadata (3.9 kB)\n",
            "Collecting pynacl>=1.4.0 (from PyGithub)\n",
            "  Downloading PyNaCl-1.5.0-cp36-abi3-manylinux_2_17_x86_64.manylinux2014_x86_64.manylinux_2_24_x86_64.whl.metadata (8.6 kB)\n",
            "Requirement already satisfied: requests>=2.14.0 in /usr/local/lib/python3.10/dist-packages (from PyGithub) (2.32.3)\n",
            "Requirement already satisfied: pyjwt>=2.4.0 in /usr/local/lib/python3.10/dist-packages (from pyjwt[crypto]>=2.4.0->PyGithub) (2.9.0)\n",
            "Requirement already satisfied: typing-extensions>=4.0.0 in /usr/local/lib/python3.10/dist-packages (from PyGithub) (4.12.2)\n",
            "Requirement already satisfied: urllib3>=1.26.0 in /usr/local/lib/python3.10/dist-packages (from PyGithub) (2.2.3)\n",
            "Requirement already satisfied: Deprecated in /usr/local/lib/python3.10/dist-packages (from PyGithub) (1.2.14)\n",
            "Requirement already satisfied: cryptography>=3.4.0 in /usr/local/lib/python3.10/dist-packages (from pyjwt[crypto]>=2.4.0->PyGithub) (43.0.3)\n",
            "Requirement already satisfied: cffi>=1.4.1 in /usr/local/lib/python3.10/dist-packages (from pynacl>=1.4.0->PyGithub) (1.17.1)\n",
            "Requirement already satisfied: charset-normalizer<4,>=2 in /usr/local/lib/python3.10/dist-packages (from requests>=2.14.0->PyGithub) (3.4.0)\n",
            "Requirement already satisfied: idna<4,>=2.5 in /usr/local/lib/python3.10/dist-packages (from requests>=2.14.0->PyGithub) (3.10)\n",
            "Requirement already satisfied: certifi>=2017.4.17 in /usr/local/lib/python3.10/dist-packages (from requests>=2.14.0->PyGithub) (2024.8.30)\n",
            "Requirement already satisfied: wrapt<2,>=1.10 in /usr/local/lib/python3.10/dist-packages (from Deprecated->PyGithub) (1.16.0)\n",
            "Requirement already satisfied: pycparser in /usr/local/lib/python3.10/dist-packages (from cffi>=1.4.1->pynacl>=1.4.0->PyGithub) (2.22)\n",
            "Downloading PyGithub-2.4.0-py3-none-any.whl (362 kB)\n",
            "\u001b[2K   \u001b[90m━━━━━━━━━━━━━━━━━━━━━━━━━━━━━━━━━━━━━━━━\u001b[0m \u001b[32m362.6/362.6 kB\u001b[0m \u001b[31m5.2 MB/s\u001b[0m eta \u001b[36m0:00:00\u001b[0m\n",
            "\u001b[?25hDownloading PyNaCl-1.5.0-cp36-abi3-manylinux_2_17_x86_64.manylinux2014_x86_64.manylinux_2_24_x86_64.whl (856 kB)\n",
            "\u001b[2K   \u001b[90m━━━━━━━━━━━━━━━━━━━━━━━━━━━━━━━━━━━━━━━━\u001b[0m \u001b[32m856.7/856.7 kB\u001b[0m \u001b[31m29.3 MB/s\u001b[0m eta \u001b[36m0:00:00\u001b[0m\n",
            "\u001b[?25hInstalling collected packages: pynacl, PyGithub\n",
            "Successfully installed PyGithub-2.4.0 pynacl-1.5.0\n"
          ]
        }
      ],
      "source": [
        "!pip install PyGithub"
      ]
    },
    {
      "cell_type": "code",
      "source": [
        "import requests\n",
        "from github import Github\n",
        "\n",
        "# Step 1: Define the GitHub API token and headers\n",
        "GITHUB_TOKEN = '' # GitHub token\n",
        "HEADERS = {'Authorization': f'token {GITHUB_TOKEN}'}\n",
        "\n",
        "# Step 2: Define functions to get users and their repositories\n",
        "def get_all_users_from_Tokyo(min_followers=200):\n",
        "    url = \"https://api.github.com/search/users\"\n",
        "    query = f\"location:tokyo followers:>{min_followers}\"\n",
        "    params = {'q': query, 'per_page': 100}\n",
        "\n",
        "    users = []\n",
        "    page = 1\n",
        "\n",
        "    while True:\n",
        "        params['page'] = page\n",
        "        response = requests.get(url, headers=HEADERS, params=params)\n",
        "        data = response.json()\n",
        "        if 'items' in data:\n",
        "            users.extend([(user['login'], user['followers_url']) for user in data['items']])\n",
        "            if len(data['items']) < 100:\n",
        "                break\n",
        "        else:\n",
        "            break\n",
        "        page += 1\n",
        "\n",
        "    return users\n",
        "\n",
        "def get_repositories(username):\n",
        "    url = f\"https://api.github.com/users/{username}/repos\"\n",
        "    params = {\n",
        "        'sort': 'pushed',  # Sort by most recently pushed\n",
        "        'direction': 'desc',  # Descending order\n",
        "        'per_page': 100,  # Max per page\n",
        "        'page': 1  # Start at the first page\n",
        "    }\n",
        "\n",
        "    all_repos = []\n",
        "\n",
        "    while True:\n",
        "        response = requests.get(url, headers=HEADERS, params=params)\n",
        "        repos = response.json()\n",
        "\n",
        "        if not repos:\n",
        "            break\n",
        "\n",
        "        all_repos.extend(repos)\n",
        "\n",
        "        # Check if we need to paginate\n",
        "        if len(repos) < 100:\n",
        "            break\n",
        "\n",
        "        params['page'] += 1  # Move to the next page\n",
        "\n",
        "    repo_info = [\n",
        "        {\n",
        "            'login': username,\n",
        "            'full_name': repo['full_name'],\n",
        "            'created_at': repo['created_at'],\n",
        "            'stargazers_count': repo['stargazers_count'],\n",
        "            'watchers_count': repo['watchers_count'],\n",
        "            'language': repo['language'],\n",
        "            'has_projects': repo['has_projects'],\n",
        "            'has_wiki': repo['has_wiki'],\n",
        "            'license_name': repo['license']['name'] if repo['license'] else 'No license'\n",
        "        }\n",
        "        for repo in all_repos[:500]  # Limit to 500 most recently pushed\n",
        "    ]\n",
        "    return repo_info"
      ],
      "metadata": {
        "id": "9EfQVM7w0hP3"
      },
      "execution_count": null,
      "outputs": []
    },
    {
      "cell_type": "code",
      "source": [
        "# Initialize GitHub API\n",
        "g = Github(GITHUB_TOKEN)\n",
        "\n",
        "# Step 3: Fetch users from Tokyo with over 200 followers\n",
        "users = get_all_users_from_Tokyo()\n",
        "\n",
        "# Extract user details and repositories\n",
        "user_details = []\n",
        "repo_details = []\n",
        "\n",
        "for username, _ in users:\n",
        "    user = g.get_user(username)\n",
        "    user_details.append({\n",
        "        'login': user.login,\n",
        "        'name': user.name or '',\n",
        "        'company': (user.company or '').strip().lstrip('@').upper(),\n",
        "        'location': user.location or '',\n",
        "        'email': user.email or '',\n",
        "        'hireable': user.hireable or False,\n",
        "        'bio': user.bio or '',\n",
        "        'public_repos': user.public_repos,\n",
        "        'followers': user.followers,\n",
        "        'following': user.following,\n",
        "        'created_at': user.created_at.isoformat()\n",
        "    })\n",
        "\n",
        "    # Get repositories for the user\n",
        "    repo_details.extend(get_repositories(username))\n",
        "\n"
      ],
      "metadata": {
        "id": "oJeZ5J_7016v"
      },
      "execution_count": null,
      "outputs": []
    },
    {
      "cell_type": "code",
      "source": [
        "# Step 4: Create DataFrames\n",
        "import pandas as pd\n",
        "\n",
        "df_users = pd.DataFrame(user_details)\n",
        "df_repos = pd.DataFrame(repo_details)\n",
        "\n",
        "df_users.to_csv('users.csv', index=False)\n",
        "df_repos.to_csv('repositories.csv', index=False)"
      ],
      "metadata": {
        "id": "blwZcZ0n36qZ"
      },
      "execution_count": null,
      "outputs": []
    },
    {
      "cell_type": "code",
      "source": [
        "import pandas as pd\n",
        "df_users = pd.read_csv('users.csv')\n",
        "df_repos = pd.read_csv('repositories.csv')"
      ],
      "metadata": {
        "id": "l-ktS8LA8iH6"
      },
      "execution_count": null,
      "outputs": []
    },
    {
      "cell_type": "markdown",
      "source": [
        "1. Who are the top 5 users in Tokyo with the highest number of followers? List their login in order, comma-separated.\n",
        "Users"
      ],
      "metadata": {
        "id": "-wV7lrt0_vaQ"
      }
    },
    {
      "cell_type": "code",
      "source": [
        "# Filter for users in Tokyo and sort by followers\n",
        "top_users_tokyo = df_users.sort_values(by='followers', ascending=False)\n",
        "\n",
        "# Get the logins in order\n",
        "top_logins = top_users_tokyo['login'].tolist()\n",
        "top_logins= top_logins[:5]\n",
        "\n",
        "# Output the result as a comma-separated string\n",
        "result = ','.join(top_logins)\n",
        "print(result)"
      ],
      "metadata": {
        "colab": {
          "base_uri": "https://localhost:8080/"
        },
        "id": "SJHW2ee1_1X_",
        "outputId": "5be6fd25-cf7d-4d7a-c141-ef87d951c818"
      },
      "execution_count": null,
      "outputs": [
        {
          "output_type": "stream",
          "name": "stdout",
          "text": [
            "dennybritz,wasabeef,dai-shi,rui314,domenic\n"
          ]
        }
      ]
    },
    {
      "cell_type": "markdown",
      "source": [
        "2. Who are the 5 earliest registered GitHub users in Tokyo? List their login in ascending order of created_at, comma-separated.\n",
        "Users"
      ],
      "metadata": {
        "id": "Sam8kfki_00P"
      }
    },
    {
      "cell_type": "code",
      "source": [
        "earliest = df_users.sort_values(by='created_at', ascending=True)\n",
        "\n",
        "# Get the logins in order\n",
        "top_logins = earliest['login'].tolist()\n",
        "top_logins= top_logins[:5]\n",
        "\n",
        "# Output the result as a comma-separated string\n",
        "result = ','.join(top_logins)\n",
        "print(result)"
      ],
      "metadata": {
        "colab": {
          "base_uri": "https://localhost:8080/"
        },
        "id": "c95VEGRbABif",
        "outputId": "83eba0e1-7116-4fea-98f1-ef62a9c67f33"
      },
      "execution_count": null,
      "outputs": [
        {
          "output_type": "stream",
          "name": "stdout",
          "text": [
            "kana,kakutani,mootoh,lhl,walf443\n"
          ]
        }
      ]
    },
    {
      "cell_type": "markdown",
      "source": [
        "3. What are the 3 most popular license among these users? Ignore missing licenses. List the license_name in order, comma-separated.\n",
        "Licenses"
      ],
      "metadata": {
        "id": "yMzEHZOsAJ5f"
      }
    },
    {
      "cell_type": "code",
      "source": [
        "df = df_repos.copy()\n",
        "# Step 1: Filter out missing licenses\n",
        "filtered_licenses = df['license_name'].dropna()\n",
        "\n",
        "# Step 2: Count occurrences of each license\n",
        "license_counts = filtered_licenses.value_counts()\n",
        "\n",
        "# Step 3: Get the top 3 licenses\n",
        "top_licenses = license_counts.nlargest(3)\n",
        "\n",
        "# Get license names in order, comma-separated\n",
        "result = ','.join(top_licenses.index)\n",
        "\n",
        "print(result)"
      ],
      "metadata": {
        "colab": {
          "base_uri": "https://localhost:8080/"
        },
        "id": "4PTIwpv_ALkH",
        "outputId": "dca5ebe4-57a1-40c6-cb83-2198353c457a"
      },
      "execution_count": null,
      "outputs": [
        {
          "output_type": "stream",
          "name": "stdout",
          "text": [
            "No license,MIT License,Apache License 2.0\n"
          ]
        }
      ]
    },
    {
      "cell_type": "markdown",
      "source": [
        "4. Which company do the majority of these developers work at?\n",
        "Company (cleaned up as explained above)"
      ],
      "metadata": {
        "id": "HiYWYHkBATyO"
      }
    },
    {
      "cell_type": "code",
      "source": [
        "company_counts = df_users['company'].value_counts()\n",
        "top_companies = company_counts.nlargest(1)\n",
        "print(top_companies.index[0])"
      ],
      "metadata": {
        "colab": {
          "base_uri": "https://localhost:8080/"
        },
        "id": "wjFe1hVZAXdX",
        "outputId": "f9f08651-0c85-430b-a212-20088b66d929"
      },
      "execution_count": null,
      "outputs": [
        {
          "output_type": "stream",
          "name": "stdout",
          "text": [
            "GOOGLE\n"
          ]
        }
      ]
    },
    {
      "cell_type": "markdown",
      "source": [
        "5. Which programming language is most popular among these users?\n",
        "Language"
      ],
      "metadata": {
        "id": "Sm6CdpBUActP"
      }
    },
    {
      "cell_type": "code",
      "source": [
        "language_counts = df_repos['language'].value_counts()\n",
        "top_language = language_counts.nlargest(1)\n",
        "print(top_language.index[0])"
      ],
      "metadata": {
        "colab": {
          "base_uri": "https://localhost:8080/"
        },
        "id": "-Lf2GGJFAeq3",
        "outputId": "4bd1e9f0-3ba5-44ff-a36a-403c2f872f3b"
      },
      "execution_count": null,
      "outputs": [
        {
          "output_type": "stream",
          "name": "stdout",
          "text": [
            "JavaScript\n"
          ]
        }
      ]
    },
    {
      "cell_type": "markdown",
      "source": [
        "6. Which programming language is the second most popular among users who joined after 2020?\n",
        "Language"
      ],
      "metadata": {
        "id": "nEZQujCaAnxf"
      }
    },
    {
      "cell_type": "code",
      "source": [
        "repos = df_repos.copy()\n",
        "users = df_users.copy()\n",
        "# Step 1: Convert join_date to datetime\n",
        "users['join_date'] = pd.to_datetime(users['created_at'])\n",
        "\n",
        "# Step 2: Filter for users who joined after 2020\n",
        "filtered_users = users[users['join_date'].dt.year >= 2020]\n",
        "\n",
        "# Step 3: Merge with the repos\n",
        "merged_df = pd.merge(filtered_users, repos, on='login')\n",
        "\n",
        "# Step 4: Count occurrences of each programming language\n",
        "language_counts = merged_df['language'].value_counts()\n",
        "\n",
        "# Step 5: Get the second most popular language\n",
        "top_language = language_counts.nlargest(2)\n",
        "print(top_language.index[1])"
      ],
      "metadata": {
        "colab": {
          "base_uri": "https://localhost:8080/"
        },
        "id": "l7XdBpMxAmlm",
        "outputId": "788ad96d-09c6-438d-e6bd-c016818c8e7a"
      },
      "execution_count": null,
      "outputs": [
        {
          "output_type": "stream",
          "name": "stdout",
          "text": [
            "Rust\n"
          ]
        }
      ]
    },
    {
      "cell_type": "markdown",
      "source": [
        "7. Which language has the highest average number of stars per repository?\n",
        "Language"
      ],
      "metadata": {
        "id": "K1a0cKBRAudH"
      }
    },
    {
      "cell_type": "code",
      "source": [
        "df=df_repos.groupby('language').agg({'stargazers_count': 'mean'})\n",
        "df=df.sort_values(by='stargazers_count', ascending=False)\n",
        "print(df.index[0])"
      ],
      "metadata": {
        "colab": {
          "base_uri": "https://localhost:8080/"
        },
        "id": "P79DHbsvAvWe",
        "outputId": "20b9a839-7cc6-4530-82dc-e365e835e303"
      },
      "execution_count": null,
      "outputs": [
        {
          "output_type": "stream",
          "name": "stdout",
          "text": [
            "Assembly\n"
          ]
        }
      ]
    },
    {
      "cell_type": "markdown",
      "source": [
        "8. Let's define leader_strength as followers / (1 + following). Who are the top 5 in terms of leader_strength? List their login in order, comma-separated.\n",
        "User login"
      ],
      "metadata": {
        "id": "okcj-WAEA2Gf"
      }
    },
    {
      "cell_type": "code",
      "source": [
        "df = df_users.copy()\n",
        "# Step 1: Calculate leader_strength\n",
        "df['leader_strength'] = df['followers'] / (1 + df['following'])\n",
        "\n",
        "# Step 2: Sort by leader_strength\n",
        "top_users = df.sort_values(by='leader_strength', ascending=False)\n",
        "\n",
        "# Step 3: Get the top 5 logins\n",
        "top_5_logins = top_users.head(5)['login']\n",
        "\n",
        "# Convert to a comma-separated string\n",
        "result = ','.join(top_5_logins)\n",
        "\n",
        "print(result)"
      ],
      "metadata": {
        "colab": {
          "base_uri": "https://localhost:8080/"
        },
        "id": "Dk9l0I6FA3Em",
        "outputId": "54d03c82-b88e-4a63-bd03-939dd95790be"
      },
      "execution_count": null,
      "outputs": [
        {
          "output_type": "stream",
          "name": "stdout",
          "text": [
            "blueimp,dai-shi,asahilina,pilcrowonpaper,marcan\n"
          ]
        }
      ]
    },
    {
      "cell_type": "markdown",
      "source": [
        "9. What is the correlation between the number of followers and the number of public repositories among users in Tokyo?\n",
        "Correlation between followers and repos (to 3 decimal places, e.g. 0.123 or -0.123)"
      ],
      "metadata": {
        "id": "Y4awlzN7BDQH"
      }
    },
    {
      "cell_type": "code",
      "source": [
        "users = df_users.copy()\n",
        "correlation = users['followers'].corr(users['public_repos'])\n",
        "round(correlation,3)"
      ],
      "metadata": {
        "colab": {
          "base_uri": "https://localhost:8080/"
        },
        "id": "sh5DDLsRBEDu",
        "outputId": "82828cfc-667f-49b9-8edb-c487da6b2492"
      },
      "execution_count": null,
      "outputs": [
        {
          "output_type": "execute_result",
          "data": {
            "text/plain": [
              "0.051"
            ]
          },
          "metadata": {},
          "execution_count": 20
        }
      ]
    },
    {
      "cell_type": "markdown",
      "source": [
        "10. Does creating more repos help users get more followers? Using regression, estimate how many additional followers a user gets per additional public repository.\n",
        "Regression slope of followers on repos (to 3 decimal places, e.g. 0.123 or -0.123)"
      ],
      "metadata": {
        "id": "rskm0QmvCFUW"
      }
    },
    {
      "cell_type": "code",
      "source": [
        "from sklearn.linear_model import LinearRegression\n",
        "import numpy as np\n",
        "\n",
        "X = users['public_repos'].values.reshape(-1,1)  # Independent variable\n",
        "y = users['followers']  # Dependent variable\n",
        "\n",
        "# Perform linear regression\n",
        "model = LinearRegression()\n",
        "model.fit(X, y)\n",
        "\n",
        "# Get the slope (coefficient) of the regression line\n",
        "slope = model.coef_[0]  # This is the coefficient for public_repos\n",
        "slope=round(slope,3)\n",
        "print(slope)"
      ],
      "metadata": {
        "colab": {
          "base_uri": "https://localhost:8080/"
        },
        "id": "39pQ84_7CGwO",
        "outputId": "7841c286-3ec8-48fb-b56e-8075e815af55"
      },
      "execution_count": null,
      "outputs": [
        {
          "output_type": "stream",
          "name": "stdout",
          "text": [
            "0.279\n"
          ]
        }
      ]
    },
    {
      "cell_type": "markdown",
      "source": [
        "11. Do people typically enable projects and wikis together? What is the correlation between a repo having projects enabled and having wiki enabled?\n",
        "Correlation between projects and wiki enabled (to 3 decimal places, e.g. 0.123 or -0.123)"
      ],
      "metadata": {
        "id": "M4_Xwr5wKUBs"
      }
    },
    {
      "cell_type": "code",
      "source": [
        "repos = df_repos.copy()\n",
        "correlation = repos['has_projects'].corr(repos['has_wiki'])\n",
        "correlation=round(correlation,3)\n",
        "print(correlation)"
      ],
      "metadata": {
        "colab": {
          "base_uri": "https://localhost:8080/"
        },
        "id": "rOqZVXYTKe4S",
        "outputId": "dffd2dc3-73f8-4cbe-b931-60b07c90cf08"
      },
      "execution_count": null,
      "outputs": [
        {
          "output_type": "stream",
          "name": "stdout",
          "text": [
            "0.427\n"
          ]
        }
      ]
    },
    {
      "cell_type": "markdown",
      "source": [
        "As the correlation is weak postive, association between the 2 variables cannot be justified, thus answer is NaN."
      ],
      "metadata": {
        "id": "kAKgJAxv88sq"
      }
    },
    {
      "cell_type": "markdown",
      "source": [
        "12. Do hireable users follow more people than those who are not hireable?\n",
        "Average of following per user for hireable=true minus the average following for the rest (to 3 decimal places, e.g. 12.345 or -12.345)"
      ],
      "metadata": {
        "id": "nK9TI_qLQHva"
      }
    },
    {
      "cell_type": "code",
      "source": [
        "df = df_users.copy()\n",
        "# Calculate average following for hireable users\n",
        "avg_hireable = df[df['hireable'] == True]['following'].mean()\n",
        "\n",
        "# Calculate average following for non-hireable users\n",
        "avg_non_hireable = df[df['hireable'] == False]['following'].mean()\n",
        "\n",
        "# Calculate the difference\n",
        "difference = round(avg_hireable - avg_non_hireable, 3)\n",
        "\n",
        "print(\"Difference in average following (hireable - non-hireable):\", difference)"
      ],
      "metadata": {
        "id": "1fbxsqlmQL-p",
        "colab": {
          "base_uri": "https://localhost:8080/"
        },
        "outputId": "66483d4a-0a0a-4792-ce59-642b92df07d0"
      },
      "execution_count": null,
      "outputs": [
        {
          "output_type": "stream",
          "name": "stdout",
          "text": [
            "Difference in average following (hireable - non-hireable): -79.652\n"
          ]
        }
      ]
    },
    {
      "cell_type": "markdown",
      "source": [
        "As the difference is negative, not hireable users follow more people than those who are hireable, thus answer is NaN."
      ],
      "metadata": {
        "id": "1kGeMTSO_Seq"
      }
    },
    {
      "cell_type": "markdown",
      "source": [
        "13. Some developers write long bios. Does that help them get more followers? What's the correlation of the length of their bio (in Unicode words, split by whitespace) with followers? (Ignore people without bios)\n",
        "Regression slope of followers on bio word count (to 3 decimal places, e.g. 12.345 or -12.345)"
      ],
      "metadata": {
        "id": "mi7L870sTRTw"
      }
    },
    {
      "cell_type": "code",
      "source": [
        "from sklearn.linear_model import LinearRegression\n",
        "df = df_users.copy()\n",
        "# Step 1: Filter out entries without bios\n",
        "df = df[df['bio'].notna() & (df['bio'] != '')]\n",
        "\n",
        "# Step 2: Calculate the word count of each bio\n",
        "df['bio_word_count'] = df['bio'].str.strip().str.split().str.len()\n",
        "\n",
        "# Step 3: Prepare data for regression\n",
        "X = df[['bio_word_count']]\n",
        "y = df['followers']\n",
        "\n",
        "# Step 4: Perform linear regression\n",
        "model = LinearRegression()\n",
        "model.fit(X, y)\n",
        "\n",
        "# Get the slope\n",
        "slope = model.coef_[0]\n",
        "\n",
        "# Print the slope rounded to three decimal places\n",
        "print(f'Slope of followers on bio word count: {slope:.3f}')"
      ],
      "metadata": {
        "id": "MlimPncDTSQ4",
        "colab": {
          "base_uri": "https://localhost:8080/"
        },
        "outputId": "8e0e283b-db93-4df3-fac2-78323c0e9b18"
      },
      "execution_count": null,
      "outputs": [
        {
          "output_type": "stream",
          "name": "stdout",
          "text": [
            "Slope of followers on bio word count: 18.520\n"
          ]
        }
      ]
    },
    {
      "cell_type": "markdown",
      "source": [
        "14. Who created the most repositories on weekends (UTC)? List the top 5 users' login in order, comma-separated\n",
        "Users login"
      ],
      "metadata": {
        "id": "YHbIt8PfTTeY"
      }
    },
    {
      "cell_type": "code",
      "source": [
        "df = df_repos.copy()\n",
        "# Convert the 'created_at' column to datetime\n",
        "df['created_at'] = pd.to_datetime(df['created_at'])\n",
        "\n",
        "# Filter for weekend days (Saturday=5, Sunday=6)\n",
        "weekend_df = df[df['created_at'].dt.dayofweek.isin([5, 6])]\n",
        "\n",
        "# Count the number of repositories created by each user\n",
        "user_counts = weekend_df['login'].value_counts()\n",
        "\n",
        "# Get the top 5 users\n",
        "top_users = user_counts.nlargest(5)\n",
        "\n",
        "# Convert to a comma-separated string of user logins\n",
        "top_users_login = ','.join(top_users.index)\n",
        "\n",
        "print(top_users_login)"
      ],
      "metadata": {
        "colab": {
          "base_uri": "https://localhost:8080/"
        },
        "id": "IQykCjbaTWrw",
        "outputId": "3f3db01d-8a04-4a7d-bd88-02bdcc82eace"
      },
      "execution_count": null,
      "outputs": [
        {
          "output_type": "stream",
          "name": "stdout",
          "text": [
            "azu,suzuki-shunsuke,yuiseki,xuwei-k,zchee\n"
          ]
        }
      ]
    },
    {
      "cell_type": "markdown",
      "source": [
        "15. Do people who are hireable share their email addresses more often?\n",
        "[fraction of users with email when hireable=true] minus [fraction of users with email for the rest] (to 3 decimal places, e.g. 0.123 or -0.123)"
      ],
      "metadata": {
        "id": "61c9SeGuU1YU"
      }
    },
    {
      "cell_type": "code",
      "source": [
        "df = df_users.copy()\n",
        "# Create boolean columns for email presence\n",
        "df['has_email'] = df['email'].notna() & (df['email'] != '')\n",
        "\n",
        "# Calculate the fractions\n",
        "fraction_hireable = df[df['hireable']]['has_email'].mean()\n",
        "fraction_non_hireable = df[~df['hireable']]['has_email'].mean()\n",
        "\n",
        "# Calculate the difference\n",
        "email_fraction_difference = round(fraction_hireable - fraction_non_hireable, 3)\n",
        "\n",
        "print(email_fraction_difference)"
      ],
      "metadata": {
        "colab": {
          "base_uri": "https://localhost:8080/"
        },
        "id": "UNz_MKS3U6XL",
        "outputId": "25fd7b67-d837-4f37-fe99-85d4649777f1"
      },
      "execution_count": null,
      "outputs": [
        {
          "output_type": "stream",
          "name": "stdout",
          "text": [
            "0.132\n"
          ]
        }
      ]
    },
    {
      "cell_type": "markdown",
      "source": [
        "As the diffrence is minimal, cannot justify the above statement, thus answer is NaN."
      ],
      "metadata": {
        "id": "bPbSsoR59kj2"
      }
    },
    {
      "cell_type": "markdown",
      "source": [
        "16. Let's assume that the last word in a user's name is their surname (ignore missing names, trim and split by whitespace.) What's the most common surname? (If there's a tie, list them all, comma-separated, alphabetically)\n",
        "Number of users with the most common surname"
      ],
      "metadata": {
        "id": "FR8MBJGpU9bz"
      }
    },
    {
      "cell_type": "code",
      "source": [
        "df = df_users.copy()\n",
        "# Remove missing names and split by whitespace\n",
        "df['surname'] = df['name'].dropna().str.strip().str.split().str[-1]\n",
        "\n",
        "# Count occurrences of each surname\n",
        "surname_counts = df['surname'].value_counts()\n",
        "\n",
        "# Identify the most common surnames\n",
        "most_common_count = surname_counts.max()\n",
        "most_common_surnames = surname_counts[surname_counts == most_common_count].index.tolist()\n",
        "\n",
        "# Sort surnames alphabetically\n",
        "most_common_surnames.sort()\n",
        "\n",
        "# Count of users with the most common surname\n",
        "count_most_common = surname_counts[most_common_surnames[0]] if most_common_surnames else 0\n",
        "\n",
        "# Prepare the output\n",
        "most_common_surnames_str = ','.join(most_common_surnames)\n",
        "\n",
        "print(f\"Most common surname(s): {most_common_surnames_str}\")\n",
        "print(f\"Number of users with the most common surname: {count_most_common}\")"
      ],
      "metadata": {
        "colab": {
          "base_uri": "https://localhost:8080/"
        },
        "id": "wFnDaORZVBsj",
        "outputId": "f5510cd0-f9ac-4faf-f88c-c1e14b7b9e82"
      },
      "execution_count": null,
      "outputs": [
        {
          "output_type": "stream",
          "name": "stdout",
          "text": [
            "Most common surname(s): Kato,Tanaka\n",
            "Number of users with the most common surname: 5\n"
          ]
        }
      ]
    }
  ]
}